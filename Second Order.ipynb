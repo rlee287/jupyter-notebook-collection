{
 "cells": [
  {
   "cell_type": "markdown",
   "metadata": {
    "colab_type": "text",
    "id": "WMDtkz8b7T7a"
   },
   "source": [
    "$a \\frac{d^2 y}{dx^2} + b \\frac{dy}{dx} + c y = 0$\n"
   ]
  },
  {
   "cell_type": "markdown",
   "metadata": {
    "colab_type": "text",
    "id": "bgHIwJWk6L5S"
   },
   "source": [
    "Characteristic equation:\n",
    "\n",
    "$a r^2 + b r + c = 0$\n",
    "\n",
    "Solution with real roots:\n",
    "\n",
    "$y=c_1 e^{r_1 x} + c_2 e^{r_2 x}$\n",
    "\n",
    "$y'=c_1 r_1 e^{r_1 x} + c_2 r_2 e^{r_2 x}$\n",
    "\n",
    "Solution with repeated roots:\n",
    "\n",
    "$y=c_1 e^{r x} + c_2 x e^{r x}$\n",
    "\n",
    "$y'=c_1 r e^{r x} + c_2 e^{r x} + c_2 x r e^{r x}=c_1\\left(r e^{rx}\\right) + c_2 \\left(e^{rx} \\left(1+rx\\right)\\right)$\n",
    "\n",
    "Solution with complex roots:\n",
    "\n",
    "$y=e^{\\lambda x} \\left(c_1 \\sin \\mu x + c_2 \\cos \\mu x \\right)$\n",
    "\n",
    "$y'=\\lambda e^{\\lambda x} \\left(c_1 \\cos \\mu t + c_2 \\sin \\mu t\\right)+e^{\\lambda t} \\left(-\\mu c_1 \\sin \\mu t + \\mu c_2 \\cos \\mu t\\right)$"
   ]
  },
  {
   "cell_type": "markdown",
   "metadata": {
    "colab_type": "text",
    "id": "L1qAzUFO7XjK"
   },
   "source": [
    "Numerical discretization: $a \\frac{y_n-2y_{n-1}+y_{n-2}}{\\Delta x^2} + b \\frac{y_n-y_{n-1}}{\\Delta x} + c y_n= 0$\n",
    "\n",
    "$a \\frac{y_n}{\\Delta x^2} +a\\frac{-2y_{n-1}+y_{n-2}}{\\Delta x^2} + b \\frac{y_n}{\\Delta x} + b \\frac{-y_{n-1}}{\\Delta x} + c y_n = 0$\n",
    "\n",
    "$y_n\\left(\\frac{a}{\\Delta x^2}+\\frac{b}{\\Delta x}+c\\right)=a\\frac{2y_{n-1}-y_{n-2}}{\\Delta x^2}+b \\frac{y_{n-1}}{\\Delta x}$\n",
    "\n",
    "$y_n\\left(a+b\\Delta x+c\\Delta x^2\\right)=a\\left(2y_{n-1}-y_{n-2}\\right) + b\\Delta x y_{n-1}$\n",
    "\n",
    "$y_n = \\frac{a\\left(2y_{n-1}-y_{n-2}\\right) + b\\Delta x y_{n-1}}{\\left(a+b\\Delta x+c\\Delta x^2\\right)}$"
   ]
  },
  {
   "cell_type": "code",
   "execution_count": 1,
   "metadata": {
    "colab": {
     "autoexec": {
      "startup": false,
      "wait_interval": 0
     }
    },
    "colab_type": "code",
    "collapsed": true,
    "id": "a_Ky_Isk6I_i"
   },
   "outputs": [],
   "source": [
    "import cmath\n",
    "import numpy as np\n",
    "import matplotlib.pyplot as plt"
   ]
  },
  {
   "cell_type": "code",
   "execution_count": 2,
   "metadata": {
    "colab": {
     "autoexec": {
      "startup": false,
      "wait_interval": 0
     }
    },
    "colab_type": "code",
    "collapsed": true,
    "id": "gUf73ihV6t5M"
   },
   "outputs": [],
   "source": [
    "def solve_second(nt, dt, y_0, yp_0, a, b, c):\n",
    "  time=np.linspace(0,nt*dt,nt)\n",
    "  y=np.full(time.shape,y_0)\n",
    "  y[1]+=dt*yp_0\n",
    "  for n in range(2,nt):\n",
    "    y[n]=a*(2*y[n-1]-y[n-2])\n",
    "    y[n]+=b*dt*y[n-1]\n",
    "    y[n]/=(a+b*dt+c*dt*dt)\n",
    "  return (time, y)\n",
    "\n",
    "def discriminant(a,b,c):\n",
    "  return b*b-4*a*c\n",
    "\n",
    "def solve_quadratic(a,b,c):\n",
    "  disc=cmath.sqrt(discriminant(a,b,c))/2*a\n",
    "  common=(-b/2*a)\n",
    "  return (common-disc,common+disc)\n",
    "\n",
    "def solve_cramer(a1,b1,c1,a2,b2,c2):\n",
    "  det_common=a1*b2-a2*b1\n",
    "  det_1=c1*b2-c2*b1\n",
    "  det_2=a1*c2-a2*c1\n",
    "  return (det_1/det_common,det_2/det_common)\n",
    "\n",
    "def solve_exact(nt, dt, y_0, yp_0, a, b, c):\n",
    "  time = np.linspace(0,nt*dt,nt)\n",
    "  disc=discriminant(a,b,c)\n",
    "  if disc>0:\n",
    "    r1,r2=solve_quadratic(a,b,c)\n",
    "    #c1+c2=y_0\n",
    "    #r1*c1+r2*c2=yp_0\n",
    "    c1,c2=solve_cramer(1,1,y_0,r1,r2,yp_0)\n",
    "    return (time, c1*np.exp(r1*time)+c2*np.exp(c2*time))\n",
    "  elif disc==0:\n",
    "    r,_=solve_quadratic(a,b,c)\n",
    "    #c1=y_0\n",
    "    #c2=yp_0-y_0*r\n",
    "    c1=y_0\n",
    "    c2=yp_0-y_0*r\n",
    "    return (time, c1*np.exp(r*time)+c2*time*np.exp(r*time))\n",
    "  else: #if disc<0\n",
    "    r1,r2=solve_quadratic(a,b,c)\n",
    "    lambd=r2.real\n",
    "    mu=r2.imag\n",
    "    c1=y_0\n",
    "    c2=(yp_0-lambd*y_0)/mu\n",
    "    return (time, np.exp(lambd*time)*(c1*np.cos(mu*time)+c2*np.sin(mu*time)))"
   ]
  },
  {
   "cell_type": "code",
   "execution_count": 3,
   "metadata": {
    "colab": {
     "autoexec": {
      "startup": false,
      "wait_interval": 0
     }
    },
    "colab_type": "code",
    "collapsed": true,
    "id": "Zj7Zj2_w9pdQ"
   },
   "outputs": [],
   "source": [
    "a_glob=1.0\n",
    "b_glob=-1.0\n",
    "c_glob=1.25\n",
    "y_0_glob=1.0\n",
    "yp_0_glob=0.5"
   ]
  },
  {
   "cell_type": "code",
   "execution_count": 4,
   "metadata": {
    "colab": {
     "autoexec": {
      "startup": false,
      "wait_interval": 0
     },
     "base_uri": "https://localhost:8080/",
     "height": 362,
     "output_extras": [
      {
       "item_id": 1
      }
     ]
    },
    "colab_type": "code",
    "collapsed": false,
    "executionInfo": {
     "elapsed": 626,
     "status": "ok",
     "timestamp": 1522706513842,
     "user": {
      "displayName": "Ryan Lee",
      "photoUrl": "https://lh3.googleusercontent.com/a/default-user=s128",
      "userId": "114127660431485532114"
     },
     "user_tz": 420
    },
    "id": "6dbZuM589gIg",
    "outputId": "038052f8-be1a-4b63-9f88-12b717cff003"
   },
   "outputs": [
    {
     "data": {
      "image/png": "[encoded data removed]",
      "text/plain": [
       "<matplotlib.figure.Figure at 0x7f0cdf092438>"
      ]
     },
     "metadata": {},
     "output_type": "display_data"
    }
   ],
   "source": [
    "tim,numerical=solve_second(2000,0.005,y_0_glob,yp_0_glob,a_glob,b_glob,c_glob)\n",
    "plt.plot(tim,numerical)\n",
    "tim2,exac=solve_exact(2000,0.005,y_0_glob,yp_0_glob,a_glob,b_glob,c_glob)\n",
    "plt.plot(tim2,exac)\n",
    "plt.legend([\"Numerical\",\"Exact\"])\n",
    "plt.title(\"Solution\")\n",
    "plt.show()"
   ]
  },
  {
   "cell_type": "code",
   "execution_count": 5,
   "metadata": {
    "colab": {
     "autoexec": {
      "startup": false,
      "wait_interval": 0
     },
     "base_uri": "https://localhost:8080/",
     "height": 362,
     "output_extras": [
      {
       "item_id": 1
      }
     ]
    },
    "colab_type": "code",
    "collapsed": false,
    "executionInfo": {
     "elapsed": 448,
     "status": "ok",
     "timestamp": 1522706079924,
     "user": {
      "displayName": "Ryan Lee",
      "photoUrl": "https://lh3.googleusercontent.com/a/default-user=s128",
      "userId": "114127660431485532114"
     },
     "user_tz": 420
    },
    "id": "UreA-FAJ9q9e",
    "outputId": "ec56c812-4fdd-4110-b65b-ba7c3322a27d"
   },
   "outputs": [
    {
     "data": {
      "image/png": "[encoded data removed]",
      "text/plain": [
       "<matplotlib.figure.Figure at 0x7f0cdf065f60>"
      ]
     },
     "metadata": {},
     "output_type": "display_data"
    }
   ],
   "source": [
    "plt.plot(tim,exac-numerical)\n",
    "plt.title(\"Residual\")\n",
    "plt.show()"
   ]
  },
  {
   "cell_type": "code",
   "execution_count": null,
   "metadata": {
    "colab": {
     "autoexec": {
      "startup": false,
      "wait_interval": 0
     }
    },
    "colab_type": "code",
    "collapsed": true,
    "id": "Qc7e2E2q95ew"
   },
   "outputs": [],
   "source": []
  }
 ],
 "metadata": {
  "colab": {
   "collapsed_sections": [],
   "default_view": {},
   "name": "Second Order.ipynb",
   "provenance": [],
   "version": "0.3.2",
   "views": {}
  },
  "kernelspec": {
   "display_name": "Python 3",
   "language": "python",
   "name": "python3"
  },
  "language_info": {
   "codemirror_mode": {
    "name": "ipython",
    "version": 3
   },
   "file_extension": ".py",
   "mimetype": "text/x-python",
   "name": "python",
   "nbconvert_exporter": "python",
   "pygments_lexer": "ipython3",
   "version": "3.6.3"
  }
 },
 "nbformat": 4,
 "nbformat_minor": 0
}
