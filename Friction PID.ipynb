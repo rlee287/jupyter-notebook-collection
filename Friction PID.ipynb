{
 "cells": [
  {
   "cell_type": "markdown",
   "metadata": {},
   "source": [
    "Utility functions and imports"
   ]
  },
  {
   "cell_type": "code",
   "execution_count": 1,
   "metadata": {
    "collapsed": true
   },
   "outputs": [],
   "source": [
    "import numpy as np\n",
    "import matplotlib.pyplot as plt\n",
    "%matplotlib inline\n",
    "plt.rcParams['figure.figsize'] = (10.0, 8.0)"
   ]
  },
  {
   "cell_type": "code",
   "execution_count": 2,
   "metadata": {
    "collapsed": false
   },
   "outputs": [],
   "source": [
    "def clamp(value, low, high):\n",
    "    return max(low, min(value, high))"
   ]
  },
  {
   "cell_type": "markdown",
   "metadata": {},
   "source": [
    "The output is the motor speed (velocity) and the input is the distance moved. This can be written as\n",
    "\n",
    "$$x'=m \\left(p\\left(SP-x\\right)+i \\int \\left(SP-x\\right) dt +d \\left(\\frac{d\\left(SP-x\\right)}{dt} \\right)\\right)$$\n",
    "\n",
    "Discretization yields\n",
    "\n",
    "$$\\frac{x_{j+1}-x_j}{\\Delta t}=m \\left(p\\left(SP-x_j\\right)+i \\sum_j \\left(SP-x_j\\right) \\cdot \\Delta t +d \\left(\\frac{x_{j-1}-x_j}{\\Delta t} \\right)\\right)$$\n",
    "\n",
    "We are now dropping the $\\Delta t$ terms for the integral and derivative terms because WPILib does not include them:\n",
    "\n",
    "$$\\frac{x_{j+1}-x_j}{\\Delta t}=m \\left(p\\left(SP-x_j\\right)+i \\sum_j \\left(SP-x_j\\right) +d \\left(x_{j-1}-x_j \\right)\\right)$$\n",
    "\n",
    "Solving for $x_{j+1}$ is done as follows:\n",
    "\n",
    "$$x_{j+1}-x_j=m \\Delta t \\left(p\\left(SP-x_j\\right)+i \\sum_j \\left(SP-x_j\\right) +d \\left(x_{j-1}-x_j \\right)\\right)$$\n",
    "\n",
    "$$x_{j+1}=x_j + m \\Delta t \\left(p\\left(SP-x_j\\right)+i \\sum_j \\left(SP-x_j\\right) +d \\left(x_{j-1}-x_j \\right)\\right)$$"
   ]
  },
  {
   "cell_type": "markdown",
   "metadata": {},
   "source": [
    "Solution settings and PID parameters:"
   ]
  },
  {
   "cell_type": "code",
   "execution_count": 3,
   "metadata": {
    "collapsed": true
   },
   "outputs": [],
   "source": [
    "# Timesteps and number of steps\n",
    "nt=150\n",
    "dt=0.02\n",
    "# PID params\n",
    "p=0.01\n",
    "i=0\n",
    "d=0\n",
    "minout=-1\n",
    "maxout=1\n",
    "motorpower=2000"
   ]
  },
  {
   "cell_type": "code",
   "execution_count": 4,
   "metadata": {
    "collapsed": false
   },
   "outputs": [],
   "source": [
    "# Initialize variables\n",
    "timerange=np.arange(0,nt*dt,dt)\n",
    "setpointarray=np.full((nt),2000)\n",
    "out=np.zeros(nt)\n",
    "pidoutraw=np.zeros(nt)\n",
    "pidout=np.zeros(nt)\n",
    "porpout=np.zeros(nt)\n",
    "integout=np.zeros(nt)\n",
    "derivout=np.zeros(nt)"
   ]
  },
  {
   "cell_type": "code",
   "execution_count": 5,
   "metadata": {
    "collapsed": false
   },
   "outputs": [],
   "source": [
    "# Wrapraound is safe because of constant initialization\n",
    "integsum=0\n",
    "for index in range(1,nt):\n",
    "    err=setpointarray[index-1]-out[index-1]\n",
    "    # Proportional term\n",
    "    porp=p*err\n",
    "    porpout[index]=porp\n",
    "    # Integral term\n",
    "    integsum+=err\n",
    "    integ=i*integsum\n",
    "    integout[index]=integ\n",
    "    # Derivative term\n",
    "    deriv=d*(out[index-2]-out[index-1])\n",
    "    derivout[index]=deriv\n",
    "    # Add together\n",
    "    newout=porp+integ+deriv\n",
    "    pidoutraw[index]=newout\n",
    "    # Clamp output\n",
    "    newout=clamp(newout,minout,maxout)\n",
    "    pidout[index]=newout\n",
    "    # Write to final output\n",
    "    out[index]=out[index-1]+dt*motorpower*newout"
   ]
  },
  {
   "cell_type": "code",
   "execution_count": 6,
   "metadata": {
    "collapsed": false
   },
   "outputs": [
    {
     "data": {
      "image/png": "[encoded data removed]",
      "text/plain": [
       "<matplotlib.figure.Figure at 0x7f6b2c35f978>"
      ]
     },
     "metadata": {},
     "output_type": "display_data"
    }
   ],
   "source": [
    "plt.subplot(211)\n",
    "plt.plot(timerange,out,lw=1)\n",
    "plt.plot(timerange,setpointarray,'r--',lw=2)\n",
    "plt.grid()\n",
    "plt.subplot(212)\n",
    "plt.plot(timerange,porpout,'r',lw=1)\n",
    "plt.plot(timerange,integout,'g',lw=1)\n",
    "plt.plot(timerange,derivout,'b',lw=1)\n",
    "plt.plot(timerange,pidoutraw,'m',lw=1)\n",
    "plt.plot(timerange,pidout,'k',lw=2)\n",
    "plt.ylim(1.5*minout,1.5*maxout)\n",
    "plt.grid()\n",
    "plt.show()"
   ]
  },
  {
   "cell_type": "code",
   "execution_count": 7,
   "metadata": {
    "collapsed": false
   },
   "outputs": [
    {
     "data": {
      "image/png": "[encoded data removed]",
      "text/plain": [
       "<matplotlib.figure.Figure at 0x7f6b119a3f98>"
      ]
     },
     "metadata": {},
     "output_type": "display_data"
    }
   ],
   "source": [
    "plt.plot(timerange,out,lw=1)\n",
    "plt.plot(timerange,setpointarray,'r--',lw=2)\n",
    "plt.ylim(1950,2050)\n",
    "plt.grid()"
   ]
  },
  {
   "cell_type": "code",
   "execution_count": null,
   "metadata": {
    "collapsed": true
   },
   "outputs": [],
   "source": []
  }
 ],
 "metadata": {
  "kernelspec": {
   "display_name": "Python 3",
   "language": "python",
   "name": "python3"
  },
  "language_info": {
   "codemirror_mode": {
    "name": "ipython",
    "version": 3
   },
   "file_extension": ".py",
   "mimetype": "text/x-python",
   "name": "python",
   "nbconvert_exporter": "python",
   "pygments_lexer": "ipython3",
   "version": "3.6.3"
  }
 },
 "nbformat": 4,
 "nbformat_minor": 2
}
