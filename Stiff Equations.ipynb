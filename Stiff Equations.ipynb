{
 "cells": [
  {
   "cell_type": "markdown",
   "metadata": {},
   "source": [
    "We will examine $y'=-15y$ with solution $y=e^{-15t}$.\n",
    "\n",
    "For the autonomous equation $y'=f(y)$, solution methods are\n",
    "\n",
    "Euler method: $y(t+\\Delta t) = y(t) + \\Delta t f(y(t))$\n",
    "\n",
    "Midpoint method: $y(t+\\Delta t) = y(t) + \\Delta t f\\left(y(t)+\\frac{\\Delta t}{2} f(y)\\right)$"
   ]
  },
  {
   "cell_type": "code",
   "execution_count": 1,
   "metadata": {
    "collapsed": true
   },
   "outputs": [],
   "source": [
    "import numpy as np\n",
    "import matplotlib.pyplot as plt"
   ]
  },
  {
   "cell_type": "code",
   "execution_count": 2,
   "metadata": {
    "collapsed": true
   },
   "outputs": [],
   "source": [
    "def euler(f,nt,dt,bc):\n",
    "    y=np.full((nt),bc,dtype=np.float64)\n",
    "    for i in range(1,nt):\n",
    "        y[i]=y[i-1]+dt*f(y[i-1])\n",
    "    return y\n",
    "\n",
    "def midpoint(f,nt,dt,bc):\n",
    "    y=np.full((nt),bc,dtype=np.float64)\n",
    "    for i in range(1,nt):\n",
    "        y[i]=y[i-1]+dt*f(y[i-1]+(dt/2)*func(y[i-1]))\n",
    "    return y"
   ]
  },
  {
   "cell_type": "code",
   "execution_count": 3,
   "metadata": {
    "collapsed": true
   },
   "outputs": [],
   "source": [
    "def func(y):\n",
    "    return -15*y\n",
    "\n",
    "def exact(t):\n",
    "    return np.exp(-15*t)"
   ]
  },
  {
   "cell_type": "code",
   "execution_count": 4,
   "metadata": {
    "collapsed": false
   },
   "outputs": [
    {
     "data": {
      "image/png": "[encoded data removed]",
      "text/plain": [
       "<matplotlib.figure.Figure at 0x7f0c74336a58>"
      ]
     },
     "metadata": {},
     "output_type": "display_data"
    }
   ],
   "source": [
    "tarr=np.arange(0,20*0.1,0.1)\n",
    "plt.plot(tarr,euler(func,20,0.1,1),tarr,midpoint(func,20,0.1,1),tarr,exact(tarr))\n",
    "plt.legend([\"Euler\",\"Midpoint\",\"Exact\"])\n",
    "plt.show()"
   ]
  },
  {
   "cell_type": "code",
   "execution_count": null,
   "metadata": {
    "collapsed": true
   },
   "outputs": [],
   "source": []
  }
 ],
 "metadata": {
  "kernelspec": {
   "display_name": "Python 3",
   "language": "python",
   "name": "python3"
  },
  "language_info": {
   "codemirror_mode": {
    "name": "ipython",
    "version": 3
   },
   "file_extension": ".py",
   "mimetype": "text/x-python",
   "name": "python",
   "nbconvert_exporter": "python",
   "pygments_lexer": "ipython3",
   "version": "3.6.3"
  }
 },
 "nbformat": 4,
 "nbformat_minor": 2
}
